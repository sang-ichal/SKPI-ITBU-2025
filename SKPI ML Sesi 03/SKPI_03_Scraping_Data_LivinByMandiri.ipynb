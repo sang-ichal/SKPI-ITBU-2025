{
  "nbformat": 4,
  "nbformat_minor": 0,
  "metadata": {
    "colab": {
      "provenance": [],
      "authorship_tag": "ABX9TyP3Fe+/JRPCww2mfWpuxdSf",
      "include_colab_link": true
    },
    "kernelspec": {
      "name": "python3",
      "display_name": "Python 3"
    },
    "language_info": {
      "name": "python"
    }
  },
  "cells": [
    {
      "cell_type": "markdown",
      "metadata": {
        "id": "view-in-github",
        "colab_type": "text"
      },
      "source": [
        "<a href=\"https://colab.research.google.com/github/sang-ichal/SKPI-ITBU-2025/blob/main/SKPI%20ML%20Sesi%2003/SKPI_03_Scraping_Data_LivinByMandiri.ipynb\" target=\"_parent\"><img src=\"https://colab.research.google.com/assets/colab-badge.svg\" alt=\"Open In Colab\"/></a>"
      ]
    },
    {
      "cell_type": "markdown",
      "source": [
        "# **ANALISIS SENTIMEN PENGGUNA TERHADAP APLIKASI LIVIN BY MANDIRI DI PLAY STORE - SCRAPING DATA**\n",
        "**by FAIZAL RIZA - [INSTITUT TEKNOLOGI BUDI UTOMO ]**"
      ],
      "metadata": {
        "id": "eZCGchUEcmZW"
      }
    },
    {
      "cell_type": "markdown",
      "source": [
        "# **1. SCRAPING DATA**\n",
        "\n",
        "### Instalasi dan Import Library"
      ],
      "metadata": {
        "id": "2o80Ky06cquz"
      }
    },
    {
      "cell_type": "code",
      "execution_count": null,
      "metadata": {
        "id": "LshTWz-EYQk0"
      },
      "outputs": [],
      "source": [
        "!pip install google-play-scraper\n",
        "from google_play_scraper import Sort, reviews_all\n",
        "import csv"
      ]
    },
    {
      "cell_type": "markdown",
      "source": [
        "### Scrap Review"
      ],
      "metadata": {
        "id": "bXux2GwVc8dT"
      }
    },
    {
      "cell_type": "code",
      "source": [
        "# Ambil ulasan\n",
        "scrapreview = reviews_all(\n",
        "    'id.bmri.livin',\n",
        "    lang='id',\n",
        "    country='id',\n",
        "    sort=Sort.MOST_RELEVANT,\n",
        "    count=150000\n",
        ")\n",
        "\n",
        "# Batasi scraping hanya 150.000 data ulasan\n",
        "scrapreview_limited = scrapreview[:150000]"
      ],
      "metadata": {
        "id": "dtsQQFzIc9mq"
      },
      "execution_count": null,
      "outputs": []
    },
    {
      "cell_type": "markdown",
      "source": [
        "### Simpan Dataset (.csv)"
      ],
      "metadata": {
        "id": "7M0KLTt3dAUI"
      }
    },
    {
      "cell_type": "code",
      "source": [
        "# Menulis ulasan ke file CSV dengan semua informasi\n",
        "with open('hasil_scraping_livin.csv', mode='w', newline='', encoding='utf-8') as file:\n",
        "    writer = csv.writer(file)\n",
        "    # Menulis header CSV\n",
        "    writer.writerow(['content','score'])\n",
        "\n",
        "    # Menulis tiap ulasan ke dalam file CSV\n",
        "    for review in scrapreview_limited:\n",
        "        writer.writerow([\n",
        "            review['content'],\n",
        "            review.get('score', '')\n",
        "        ])\n",
        "\n",
        "print(\"Data telah disimpan ke hasil_scraping_livin.csv\")"
      ],
      "metadata": {
        "id": "_TGyR2n_dCZt"
      },
      "execution_count": null,
      "outputs": []
    }
  ]
}
